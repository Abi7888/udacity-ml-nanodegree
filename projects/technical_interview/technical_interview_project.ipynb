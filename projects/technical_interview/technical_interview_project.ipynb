{
 "cells": [
  {
   "cell_type": "markdown",
   "metadata": {},
   "source": [
    "# Technical Interview Project"
   ]
  },
  {
   "cell_type": "markdown",
   "metadata": {},
   "source": [
    "## Question 1\n",
    "Given two strings `s` and `t`, determine whether some anagram of `t` is a substring of `s`. For example: if `s = \"udacity\"` and `t = \"ad\"`, then the function returns True. Your function definition should look like: `question1(s, t)` and return a boolean `True` or `False`."
   ]
  },
  {
   "cell_type": "code",
   "execution_count": 1,
   "metadata": {
    "collapsed": true
   },
   "outputs": [],
   "source": [
    "def get_anagrams(t):\n",
    "    if len(t) <= 1:\n",
    "        return [t]\n",
    "    else:\n",
    "        anagrams = []\n",
    "        for i, letter in enumerate(t):\n",
    "            anagrams += [v + p for p in get_anagrams(t[:i] + t[i+1:])]\n",
    "        return anagrams\n",
    "        \n",
    "def question1(s, t):\n",
    "    if s == '' or t == '':\n",
    "        return False\n",
    "    elif s == t:\n",
    "        return True\n",
    "    else:\n",
    "        anagrams = get_anagrams(t)\n",
    "        for anagram in anagrams:\n",
    "            if anagram in s:\n",
    "                return True\n",
    "        return False"
   ]
  },
  {
   "cell_type": "markdown",
   "metadata": {},
   "source": [
    "### Test Cases"
   ]
  },
  {
   "cell_type": "code",
   "execution_count": 2,
   "metadata": {
    "collapsed": false
   },
   "outputs": [
    {
     "name": "stdout",
     "output_type": "stream",
     "text": [
      "False\n",
      "False\n",
      "False\n",
      "True\n"
     ]
    }
   ],
   "source": [
    "# Should print False\n",
    "print question1('', '')\n",
    "# Should print False\n",
    "print question1('', 'a')\n",
    "# Should print False\n",
    "print question1('a', '')\n",
    "# Should print True\n",
    "print question1('udacity', 'udacity')\n",
    "#Should print True"
   ]
  },
  {
   "cell_type": "markdown",
   "metadata": {},
   "source": [
    "## Question 2\n",
    "Given a string `a`, find the longest palindromic substring contained in `a`. Your function definition should look like `question2(a)`, and return a string."
   ]
  },
  {
   "cell_type": "code",
   "execution_count": 3,
   "metadata": {
    "collapsed": true
   },
   "outputs": [],
   "source": [
    "def is_palin_helper(a, table, start, finish):\n",
    "    if start < 0 or finish >= len(a):\n",
    "        return False\n",
    "    if start > finish:\n",
    "        return False\n",
    "    if table[start][finish] is None:\n",
    "        is_palin = is_palin_helper(a, table, start+1, finish-1) and a[start] == a[finish]\n",
    "        table[start][finish] = is_palin\n",
    "        return is_palin\n",
    "    else:\n",
    "        return table[start][finish]\n",
    "\n",
    "\n",
    "def question2(a):\n",
    "    if len(a) <= 1:\n",
    "        return a\n",
    "    is_palin = [[None] * len(a) for i in range(len(a))]\n",
    "    # all substrings of length 1 are palindromes\n",
    "    for i in range(len(a)):\n",
    "        is_palin[i][i] = True\n",
    "\n",
    "    # check if substring of length 2 is palindrome\n",
    "    for i in range(len(a) - 1):\n",
    "        if a[i] == a[i+1]:\n",
    "            is_palin[i][i+1] = True\n",
    "\n",
    "    # check substrings of length greater than 2\n",
    "    for i in range(len(a)):\n",
    "        for j in range(len(a)):\n",
    "            is_palin_helper(a, is_palin, i, j)\n",
    "\n",
    "    # find the longest panlindromic substring\n",
    "    length = 0\n",
    "    longest = ''\n",
    "    for i in range(len(a)):\n",
    "        for j in range(len(a)):\n",
    "            if is_palin[i][j]:\n",
    "                if j - i + 1 > length:\n",
    "                    length = j - i + 1\n",
    "                    longest = a[i:j+1]\n",
    "    return longest"
   ]
  },
  {
   "cell_type": "markdown",
   "metadata": {},
   "source": [
    "### Test"
   ]
  },
  {
   "cell_type": "code",
   "execution_count": 5,
   "metadata": {
    "collapsed": false
   },
   "outputs": [
    {
     "name": "stdout",
     "output_type": "stream",
     "text": [
      "a\n",
      "a\n",
      "\n",
      "aba\n",
      "abcba\n",
      "geeksskeeg\n",
      "hpyyph\n",
      "gykrkyg\n"
     ]
    }
   ],
   "source": [
    "# Should print 'a'\n",
    "print question2('abc')\n",
    "# Should print 'a'\n",
    "print question2('a')\n",
    "# Should print ''\n",
    "print question2('')\n",
    "# Should print 'aba'\n",
    "print question2('aba')\n",
    "# Should print 'abcba'\n",
    "print question2('abcba')\n",
    "# Should print 'geeksskeeg'\n",
    "print question2(\"forgeeksskeegfor\")\n",
    "# Should print 'hpyyph'\n",
    "print question2(\"anugnxshgonmqydttcvmtsoaprxnhpmpovdolbidqiyqubirkvhwppcdyeo\"\n",
    "                \"uvgedccipsvnobrccbndzjdbgxkzdbcjsjjovnhpnbkurxqfupiprpbiwqd\"\n",
    "                \"nwaqvjbqoaqzkqgdxkfczdkznqxvupdmnyiidqpnbvgjraszbvvztpapxmo\"\n",
    "                \"mnghfaywkzlrupvjpcvascgvstqmvuveiiixjmdofdwyvhgkydrnfuojhzu\"\n",
    "                \"lhobyhtsxmcovwmamjwljioevhafdlpjpmqstguqhrhvsdvinphejfbdvrv\"\n",
    "                \"abthpyyphyqharjvzriosrdnwmaxtgriivdqlmugtagvsoylqfwhjpmjxcy\"\n",
    "                \"sfujdvcqovxabjdbvyvembfpahvyoybdhweikcgnzrdqlzusgoobysfmlzi\"\n",
    "                \"fwjzlazuepimhbgkrfimmemhayxeqxynewcnynmgyjcwrpqnayvxoebgyju\"\n",
    "                \"sppfpsfeonfwnbsdonucaipoafavmlrrlplnnbsaghbawooabsjndqnvruu\"\n",
    "                \"wvllpvvhuepmqtprgktnwxmflmmbifbbsfthbeafseqrgwnwjxkkcqgbucw\"\n",
    "                \"usjdipxuekanzwimuizqynaxrvicyzjhulqjshtsqswehnozehmbsdmacci\"\n",
    "                \"flcgsrlyhjukpvosptmsjfteoimtewkrivdllqiotvtrubgkfcacvgqzxjm\"\n",
    "                \"hmmqlikrtfrurltgtcreafcgisjpvasiwmhcofqkcteudgjoqqmtucnwcoc\"\n",
    "                \"soiqtfuoazxdayricnmwcg\")\n",
    "# Should print 'gykrkyg'\n",
    "print question2(\"zudfweormatjycujjirzjpyrmaxurectxrtqedmmgergwdvjmjtstdhciha\"\n",
    "                \"cqnothgttgqfywcpgnuvwglvfiuxteopoyizgehkwuvvkqxbnufkcbodlhd\"\n",
    "                \"mbqyghkojrgokpwdhtdrwmvdegwycecrgjvuexlguayzcammupgeskrvpth\"\n",
    "                \"rmwqaqsdcgycdupykppiyhwzwcplivjnnvwhqkkxildtyjltklcokcrgqnn\"\n",
    "                \"wzzeuqioyahqpuskkpbxhvzvqyhlegmoviogzwuiqahiouhnecjwysmtarj\"\n",
    "                \"jdjqdrkljawzasriouuiqkcwwqsxifbndjmyprdozhwaoibpqrthpcjphgs\"\n",
    "                \"fbeqrqqoqiqqdicvybzxhklehzzapbvcyleljawowluqgxxwlrymzojshlw\"\n",
    "                \"kmzwpixgfjljkmwdtjeabgyrpbqyyykmoaqdambpkyyvukalbrzoyoufjqe\"\n",
    "                \"ftniddsfqnilxlplselqatdgjziphvrbokofvuerpsvqmzakbyzxtxvyanv\"\n",
    "                \"jpfyvyiivqusfrsufjanmfibgrkwtiuoykiavpbqeyfsuteuxxjiyxvlvgm\"\n",
    "                \"ehycdvxdorpepmsinvmyzeqeiikajopqedyopirmhymozernxzaueljjrhc\"\n",
    "                \"sofwyddkpnvcvzixdjknikyhzmstvbducjcoyoeoaqruuewclzqqqxzpgyk\"\n",
    "                \"rkygxnmlsrjudoaejxkipkgmcoqtxhelvsizgdwdyjwuumazxfstoaxeqqx\"\n",
    "                \"oqezakdqjwpkrbldpcbbxexquqrznavcrprnydufsidakvrpuzgfisdxrel\"\n",
    "                \"dbqfizngtrilnbqboxwmwienlkmmiuifrvytukcqcpeqdwwucymgvyrekts\"\n",
    "                \"nfijdcdoawbcwkkjkqwzffnuqituihjaklvthulmcjrhqcyzvekzqlxgddjoir\")"
   ]
  },
  {
   "cell_type": "markdown",
   "metadata": {},
   "source": [
    "## Question 3\n",
    "Given an undirected graph G, find the minimum spanning tree within G. A minimum spanning tree connects all vertices in a graph with the smallest possible total weight of edges. Your function should take in and return an adjacency list structured like this:\n",
    "<pre>\n",
    "{'A': [('B', 2)],\n",
    " 'B': [('A', 2), ('C', 5)], \n",
    " 'C': [('B', 5)]}</pre>\n",
    "Vertices are represented as unique strings. The function definition should be `question3(G)`"
   ]
  },
  {
   "cell_type": "markdown",
   "metadata": {},
   "source": [
    "## Question 4\n",
    "Find the least common ancestor between two nodes on a binary search tree. The least common ancestor is the farthest node from the root that is an ancestor of both nodes. For example, the root is a common ancestor of all nodes on the tree, but if both nodes are descendents of the root's left child, then that left child might be the lowest common ancestor. You can assume that both nodes are in the tree, and the tree itself adheres to all BST properties. The function definition should look like `question4(T, r, n1, n2)`, where `T` is the tree represented as a matrix, where the index of the list is equal to the integer stored in that node and a `1` represents a child node, `r` is a non-negative integer representing the root, and `n1` and `n2` are non-negative integers representing the two nodes in no particular order. For example, one test case might be\n",
    "\n",
    "<pre>\n",
    "question4([[0, 1, 0, 0, 0],\n",
    "           [0, 0, 0, 0, 0],\n",
    "           [0, 0, 0, 0, 0],\n",
    "           [1, 0, 0, 0, 1],\n",
    "           [0, 0, 0, 0, 0]],\n",
    "          3,\n",
    "          1,\n",
    "          4)</pre>\n",
    "and the answer would be 3."
   ]
  },
  {
   "cell_type": "markdown",
   "metadata": {},
   "source": [
    "## Question 5\n",
    "Find the element in a singly linked list that's `m` elements from the end. For example, if a linked list has 5 elements, the 3rd element from the end is the 3rd element. The function definition should look like `question5(ll, m)`, where `ll` is the first node of a linked list and `m` is the \"mth number from the end\". You should copy/paste the `Node` class below to use as a representation of a node in the linked list. Return the value of the node at that position.\n",
    "<pre>\n",
    "class Node(object):\n",
    "  def __init__(self, data):\n",
    "    self.data = data\n",
    "    self.next = None</pre"
   ]
  },
  {
   "cell_type": "code",
   "execution_count": null,
   "metadata": {
    "collapsed": true
   },
   "outputs": [],
   "source": []
  }
 ],
 "metadata": {
  "kernelspec": {
   "display_name": "Python 2",
   "language": "python",
   "name": "python2"
  },
  "language_info": {
   "codemirror_mode": {
    "name": "ipython",
    "version": 2
   },
   "file_extension": ".py",
   "mimetype": "text/x-python",
   "name": "python",
   "nbconvert_exporter": "python",
   "pygments_lexer": "ipython2",
   "version": "2.7.11"
  }
 },
 "nbformat": 4,
 "nbformat_minor": 0
}
