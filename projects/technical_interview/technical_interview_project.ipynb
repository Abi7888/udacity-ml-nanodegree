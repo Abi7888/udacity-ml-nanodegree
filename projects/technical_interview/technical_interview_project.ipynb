{
 "cells": [
  {
   "cell_type": "markdown",
   "metadata": {},
   "source": [
    "# Technical Interview Project"
   ]
  },
  {
   "cell_type": "markdown",
   "metadata": {},
   "source": [
    "## Question 1\n",
    "Given two strings `s` and `t`, determine whether some anagram of `t` is a substring of `s`. For example: if `s = \"udacity\"` and `t = \"ad\"`, then the function returns True. Your function definition should look like: `question1(s, t)` and return a boolean `True` or `False`."
   ]
  },
  {
   "cell_type": "code",
   "execution_count": 1,
   "metadata": {
    "collapsed": true
   },
   "outputs": [],
   "source": [
    "def get_anagrams(t):\n",
    "    if len(t) <= 1:\n",
    "        return [t]\n",
    "    else:\n",
    "        anagrams = []\n",
    "        for i, letter in enumerate(t):\n",
    "            anagrams += [letter + parts for parts in get_anagrams(t[:i] + t[i + 1:])]\n",
    "        return anagrams\n",
    "\n",
    "\n",
    "def question1(s, t):\n",
    "    if s == t:\n",
    "        return True\n",
    "    elif s == '' or t == '':\n",
    "        return False\n",
    "    else:\n",
    "        anagrams = get_anagrams(t)\n",
    "        for anagram in anagrams:\n",
    "            if anagram in s:\n",
    "                return True\n",
    "        return False"
   ]
  },
  {
   "cell_type": "markdown",
   "metadata": {},
   "source": [
    "**Time complexity**: O(n! + m\\*n)<br>\n",
    "**Space complexity**: O(n!), where n is the length of t; m is the length of s.\n",
    "\n",
    "By recursively calling a helper function `get_anagrams(t)` to get all permutations of anagrams in string\n",
    "t with length n, the time complexity of this solution is O(n! + m\\*n) since getting all the permutations\n",
    "asks for O(n!) and searching string t of length n in string s of length m is O(m\\*n). For a string with n\n",
    "character, there're n! permutations of anagrams, therefore the space complexity is O(n!)."
   ]
  },
  {
   "cell_type": "markdown",
   "metadata": {},
   "source": [
    "### Question 1 Test Cases"
   ]
  },
  {
   "cell_type": "code",
   "execution_count": 2,
   "metadata": {
    "collapsed": false,
    "scrolled": true
   },
   "outputs": [
    {
     "name": "stdout",
     "output_type": "stream",
     "text": [
      "Test Cases for Question 1:\n",
      "True\n",
      "False\n",
      "False\n",
      "True\n",
      "True\n"
     ]
    }
   ],
   "source": [
    "print 'Test Cases for Question 1:'\n",
    "\n",
    "print question1('', '')\n",
    "# Should print False\n",
    "\n",
    "print question1('', 'a')\n",
    "# Should print False\n",
    "\n",
    "print question1('a', '')\n",
    "# Should print False\n",
    "\n",
    "print question1('udacity', 'udacity')\n",
    "# Should print True\n",
    "\n",
    "print question1('udacity', 'ad')\n",
    "# Should print True"
   ]
  },
  {
   "cell_type": "markdown",
   "metadata": {},
   "source": [
    "## Question 2\n",
    "Given a string `a`, find the longest palindromic substring contained in `a`. Your function definition should look like `question2(a)`, and return a string."
   ]
  },
  {
   "cell_type": "code",
   "execution_count": 3,
   "metadata": {
    "collapsed": true
   },
   "outputs": [],
   "source": [
    "def is_palin_helper(a, table, start, finish):\n",
    "    if start < 0 or finish >= len(a):\n",
    "        return False\n",
    "    if start > finish:\n",
    "        return False\n",
    "    if table[start][finish] is None:\n",
    "        is_palin = is_palin_helper(a, table, start+1, finish-1) and a[start] == a[finish]\n",
    "        table[start][finish] = is_palin\n",
    "        return is_palin\n",
    "    else:\n",
    "        return table[start][finish]\n",
    "\n",
    "\n",
    "def question2(a):\n",
    "    if len(a) <= 1:\n",
    "        return a\n",
    "    is_palin = [[None] * len(a) for i in range(len(a))]\n",
    "    # all substrings of length 1 are palindromes\n",
    "    for i in range(len(a)):\n",
    "        is_palin[i][i] = True\n",
    "\n",
    "    # check if substring of length 2 is palindrome\n",
    "    for i in range(len(a) - 1):\n",
    "        if a[i] == a[i+1]:\n",
    "            is_palin[i][i+1] = True\n",
    "\n",
    "    # check substrings of length greater than 2\n",
    "    for i in range(len(a)):\n",
    "        for j in range(len(a)):\n",
    "            is_palin_helper(a, is_palin, i, j)\n",
    "\n",
    "    # find the longest panlindromic substring\n",
    "    length = 0\n",
    "    longest = ''\n",
    "    for i in range(len(a)):\n",
    "        for j in range(len(a)):\n",
    "            if is_palin[i][j]:\n",
    "                if j - i + 1 > length:\n",
    "                    length = j - i + 1\n",
    "                    longest = a[i:j+1]\n",
    "    return longest"
   ]
  },
  {
   "cell_type": "markdown",
   "metadata": {},
   "source": [
    "**Time complexity**: O(n<sup>2</sup>)<br>\n",
    "**Space complexity**: O(n<sup>2</sup>), where n is the length of string a.\n",
    "\n",
    "At first, I tried to solve the problem with a brute force approach by finding all possible palindroms in\n",
    "the string a of length n. The time complexity is as high as O(n<sup>3</sup>). Then I improved the solution with a\n",
    "dynamic programming approach by checking whether a substring, starting from index i and ending at index j,\n",
    "is a palindrome, and recording the result in a matrix of n\\*n with rows as starting index i's and column as\n",
    "finishing index j's. If a substring a[i: j+1] is a palindrome and a[i-1] == a[j+1], then a[i-1: j+2] is also\n",
    "a palindrome. This approach fills a matrix of n\\*n thus has time complexity of O(n<sup>2</sup>) and space complexity\n",
    "of O(n<sup>2</sup>).\n"
   ]
  },
  {
   "cell_type": "markdown",
   "metadata": {},
   "source": [
    "### Question 2 Test Cases"
   ]
  },
  {
   "cell_type": "code",
   "execution_count": 4,
   "metadata": {
    "collapsed": false
   },
   "outputs": [
    {
     "name": "stdout",
     "output_type": "stream",
     "text": [
      "Test Cases for Question 2:\n",
      "a\n",
      "a\n",
      "\n",
      "aba\n",
      "abcba\n",
      "geeksskeeg\n",
      "qwertyuiopabcdefahpyyphafedcbapoiuytrewq\n"
     ]
    }
   ],
   "source": [
    "print 'Test Cases for Question 2:'\n",
    "\n",
    "print question2('abc')\n",
    "# Should print 'a'\n",
    "\n",
    "print question2('a')\n",
    "# Should print 'a'\n",
    "\n",
    "print question2('')\n",
    "# Should print ''\n",
    "\n",
    "print question2('aba')\n",
    "# Should print 'aba'\n",
    "\n",
    "print question2('abcba')\n",
    "# Should print 'abcba'\n",
    "\n",
    "print question2(\"forgeeksskeegfor\")\n",
    "# Should print 'geeksskeeg'\n",
    "\n",
    "print question2(\"bqfizngtrilnbqboxwmwienlkmmiuifrvytukcqcpeqdwwucymgvyrektskcqcpeqdwwucymgvyrekts\"\n",
    "                \"wenfijdcdoawbcwkkjkqwzffnuqituihjaklvthulmcjrhqcyzvekzqlxgddjoirmcjrhqcyzvekzqlx\"\n",
    "                \"gddjowzzeuqioyahqpuskkpbxhvzvqyhlegmoviogzwuiqahiouhnecjwysmtarjrmwqaqsdcgycdupy\"\n",
    "                \"kppiyhwrmwqaqsdcgycdupykppiyhwzwcplivjnnvwhqkkxildtyjltklcokcrgqnnzudfweormatjyc\"\n",
    "                \"ujjirzjpyrmaxurectxrtqedmmgergwdvjmjtstdhcihaqwertyuiopabcdefahpyyphafedcbapoiuy\"\n",
    "                \"trewqzudfweormatjycujjirzjpyrmaxurectxrtqedmmgergwdvjmjtstdhciharmwqaqsdcgycdupy\"\n",
    "                \"kppiyhwzwcplivjnnvwhqkkxildtyjltklcokcrgqnndjqdrkljawzasriouuiqkcwwqsxifbndjmypr\"\n",
    "                \"dozhwaoibpqrthpcjphgsjpfyvyiivqusfrsufjanmfibgrkwtiuoykiavpbqeyfsuteuxxjiyxvlvgm\"\n",
    "                \"ehycdvxdorpepmvcynfijdcdoawbcwkkjkqwzffnuqituihjaklvthulmcjrhqcyzvekzqlxgddjoirm\"\n",
    "                \"cjrhqcyzvekzqlxgddjbqfizngtrilnbqboxwmwienlkmmiuifrvytukcqcpeqdwwucymgvyrektskcq\"\n",
    "                \"cpeqdwwucymgvyrektswe\")\n",
    "# Should print 'qwertyuiopabcdefahpyyphafedcbapoiuytrewq'"
   ]
  },
  {
   "cell_type": "markdown",
   "metadata": {},
   "source": [
    "## Question 3\n",
    "Given an undirected graph G, find the minimum spanning tree within G. A minimum spanning tree connects all vertices in a graph with the smallest possible total weight of edges. Your function should take in and return an adjacency list structured like this:\n",
    "<pre>\n",
    "{'A': [('B', 2)],\n",
    " 'B': [('A', 2), ('C', 5)], \n",
    " 'C': [('B', 5)]}</pre>\n",
    "Vertices are represented as unique strings. The function definition should be `question3(G)`"
   ]
  },
  {
   "cell_type": "code",
   "execution_count": 5,
   "metadata": {
    "collapsed": true
   },
   "outputs": [],
   "source": [
    "def question3(G):\n",
    "    if len(G) < 1:\n",
    "        return G\n",
    "    nodes = set(G.keys())\n",
    "    mst = {}\n",
    "    start = G.keys()[0]\n",
    "    mst[start] = []\n",
    "\n",
    "    while len(mst.keys()) < len(nodes):\n",
    "        min_w = float('inf')\n",
    "        min_edge = None\n",
    "        for node in mst.keys():\n",
    "            edges = [(weight, vertex) for (vertex, weight) in G[node] if vertex not in mst.keys()]\n",
    "            if len(edges) > 0:\n",
    "                w, v = min(edges)\n",
    "                if w < min_w:\n",
    "                    min_w = w\n",
    "                    min_edge = (node, v)\n",
    "        mst[min_edge[0]].append((min_edge[1], min_w))\n",
    "        mst[min_edge[1]] = [(min_edge[0], min_w)]\n",
    "    return mst"
   ]
  },
  {
   "cell_type": "markdown",
   "metadata": {},
   "source": [
    "**Time complexity**: O(E\\*V)<br>\n",
    "**Space complexity**: O(V), where E is the number of edges; V is the number of vertice.\n",
    "\n",
    "I use the Prim's algorithm where I start with a tree T containing one vertex v from graph G, then find\n",
    "the cheapest edge from G-T with exactly one vertex in T. In the outer while loop `while len(mst.keys()) < len(nodes)`,\n",
    "each node is visied once. In the inner for loop `for node in mst.keys()`, each edge is visited once. Therefore,\n",
    "the time complexity is O(E\\*V). The resulting minimum spanning tree `mst` has V nodes, thus the space\n",
    "complexity is O(V)."
   ]
  },
  {
   "cell_type": "markdown",
   "metadata": {},
   "source": [
    "### Question 3 Test Cases"
   ]
  },
  {
   "cell_type": "code",
   "execution_count": 6,
   "metadata": {
    "collapsed": false
   },
   "outputs": [
    {
     "name": "stdout",
     "output_type": "stream",
     "text": [
      "Test Cases for Question 3:\n",
      "{}\n",
      "{'A': []}\n",
      "{'A': [('E', 1)], 'C': [('D', 3)], 'B': [('E', 2), ('D', 2)], 'E': [('A', 1), ('B', 2)], 'D': [('B', 2), ('C', 3)]}\n",
      "{'A': [('D', 5), ('B', 7)], 'C': [('E', 5)], 'B': [('A', 7), ('E', 7)], 'E': [('B', 7), ('C', 5), ('G', 9)], 'D': [('A', 5), ('F', 6)], 'G': [('E', 9)], 'F': [('D', 6)]}\n"
     ]
    }
   ],
   "source": [
    "print 'Test Cases for Question 3:'\n",
    "\n",
    "print question3({})\n",
    "# Should print {}\n",
    "\n",
    "print question3({'A': []})\n",
    "# Should print {'A': []}\n",
    "\n",
    "print question3({'A': [('B', 3), ('E', 1)],\n",
    "                 'B': [('A', 3), ('C', 9), ('D', 2), ('E', 2)],\n",
    "                 'C': [('B', 9), ('D', 3), ('E', 7)],\n",
    "                 'D': [('B', 2), ('C', 3)],\n",
    "                 'E': [('A', 1), ('B', 2), ('C', 7)]})\n",
    "# Should print\n",
    "# {'A': [('E', 1)],\n",
    "#  'C': [('D', 3)],\n",
    "#  'B': [('E', 2), ('D', 2)],\n",
    "#  'E': [('A', 1), ('B', 2)],\n",
    "#  'D': [('B', 2), ('C', 3)]}\n",
    "\n",
    "print question3({'A': [('B', 7), ('D', 5)],\n",
    "                 'B': [('A', 7), ('C', 8), ('D', 9), ('E', 7)],\n",
    "                 'C': [('B', 8), ('E', 5)],\n",
    "                 'D': [('A', 5), ('B', 9), ('E', 15), ('F', 6)],\n",
    "                 'E': [('B', 7), ('C', 5), ('D', 15), ('F', 8), ('G', 9)],\n",
    "                 'F': [('D', 6), ('E', 8),  ('G', 11)],\n",
    "                 'G': [('E', 9), ('F', 11)]})\n",
    "# Should print\n",
    "# {'A': [('D', 5), ('B', 7)],\n",
    "#  'C': [('E', 5)],\n",
    "#  'B': [('A', 7), ('E', 7)],\n",
    "#  'E': [('B', 7), ('C', 5), ('G', 9)],\n",
    "#  'D': [('A', 5), ('F', 6)],\n",
    "#  'G': [('E', 9)],\n",
    "#  'F': [('D', 6)]}"
   ]
  },
  {
   "cell_type": "markdown",
   "metadata": {},
   "source": [
    "## Question 4\n",
    "Find the least common ancestor between two nodes on a binary search tree. The least common ancestor is the farthest node from the root that is an ancestor of both nodes. For example, the root is a common ancestor of all nodes on the tree, but if both nodes are descendents of the root's left child, then that left child might be the lowest common ancestor. You can assume that both nodes are in the tree, and the tree itself adheres to all BST properties. The function definition should look like `question4(T, r, n1, n2)`, where `T` is the tree represented as a matrix, where the index of the list is equal to the integer stored in that node and a `1` represents a child node, `r` is a non-negative integer representing the root, and `n1` and `n2` are non-negative integers representing the two nodes in no particular order. For example, one test case might be\n",
    "\n",
    "<pre>\n",
    "question4([[0, 1, 0, 0, 0],\n",
    "           [0, 0, 0, 0, 0],\n",
    "           [0, 0, 0, 0, 0],\n",
    "           [1, 0, 0, 0, 1],\n",
    "           [0, 0, 0, 0, 0]],\n",
    "          3,\n",
    "          1,\n",
    "          4)</pre>\n",
    "and the answer would be 3."
   ]
  },
  {
   "cell_type": "code",
   "execution_count": 7,
   "metadata": {
    "collapsed": true
   },
   "outputs": [],
   "source": [
    "def question4(T, r, n1, n2):\n",
    "    if len(T) == 0:\n",
    "        return T\n",
    "    elif len(T) == 1:\n",
    "        return r\n",
    "    a1 = None\n",
    "    parent1 = []\n",
    "    while a1 != r:\n",
    "        for a in range(len(T)):\n",
    "            if T[a][n1] == 1:\n",
    "                a1 = a\n",
    "                n1 = a1\n",
    "                parent1.append(a1)\n",
    "    a2 = None\n",
    "    parent2 = []\n",
    "    while a2 != r:\n",
    "        for a in range(len(T)):\n",
    "            if T[a][n2] == 1:\n",
    "                a2 = a\n",
    "                n2 = a2\n",
    "                parent2.append(a2)\n",
    "    for a1 in parent1:\n",
    "        for a2 in parent2:\n",
    "            if a1 == a2:\n",
    "                return a1"
   ]
  },
  {
   "cell_type": "markdown",
   "metadata": {},
   "source": [
    "**Time complexity**: O(h)<br>\n",
    "**Space complexity**: O(h) where h is the depth of the binary tree.\n",
    "\n",
    "The solution is to find all the ancestors of nodes n1 and n2 up to the root and store it in a list.\n",
    "The process takes O(h) time and O(h) space. After all the ancestors are found, the first common ancestor\n",
    "of both lists is found as the least common ancestor."
   ]
  },
  {
   "cell_type": "markdown",
   "metadata": {},
   "source": [
    "### Question 4 Test Cases"
   ]
  },
  {
   "cell_type": "code",
   "execution_count": 8,
   "metadata": {
    "collapsed": false
   },
   "outputs": [
    {
     "name": "stdout",
     "output_type": "stream",
     "text": [
      "Test Cases for Question 4:\n",
      "[]\n",
      "0\n",
      "3\n",
      "2\n"
     ]
    }
   ],
   "source": [
    "print 'Test Cases for Question 4:'\n",
    "\n",
    "print question4([],\n",
    "                None,\n",
    "                None,\n",
    "                None)\n",
    "# Should print []\n",
    "print question4([[0]],\n",
    "                0,\n",
    "                0,\n",
    "                0)\n",
    "# Should print 0\n",
    "print question4([[0, 1, 0, 0, 0],\n",
    "                 [0, 0, 0, 0, 0],\n",
    "                 [0, 0, 0, 0, 0],\n",
    "                 [1, 0, 0, 0, 1],\n",
    "                 [0, 0, 0, 0, 0]],\n",
    "                3,\n",
    "                1,\n",
    "                4)\n",
    "# Should print 3\n",
    "print question4([[0, 0, 0, 0, 0, 0, 0],\n",
    "                 [0, 0, 1, 0, 1, 0, 0],\n",
    "                 [1, 0, 0, 0, 0, 1, 0],\n",
    "                 [0, 0, 0, 0, 0, 0, 0],\n",
    "                 [0, 0, 0, 0, 0, 0, 0],\n",
    "                 [0, 0, 0, 1, 0, 0, 1],\n",
    "                 [0, 0, 0, 0, 0, 0, 0]],\n",
    "                1,\n",
    "                0,\n",
    "                6)\n",
    "# Should print 2"
   ]
  },
  {
   "cell_type": "markdown",
   "metadata": {},
   "source": [
    "## Question 5\n",
    "Find the element in a singly linked list that's `m` elements from the end. For example, if a linked list has 5 elements, the 3rd element from the end is the 3rd element. The function definition should look like `question5(ll, m)`, where `ll` is the first node of a linked list and `m` is the \"mth number from the end\". You should copy/paste the `Node` class below to use as a representation of a node in the linked list. Return the value of the node at that position.\n",
    "<pre>\n",
    "class Node(object):\n",
    "  def __init__(self, data):\n",
    "    self.data = data\n",
    "    self.next = None</pre"
   ]
  },
  {
   "cell_type": "code",
   "execution_count": 9,
   "metadata": {
    "collapsed": true
   },
   "outputs": [],
   "source": [
    "class Node(object):\n",
    "    def __init__(self, data):\n",
    "        self.data = data\n",
    "        self.next = None\n",
    "\n",
    "\n",
    "def question5(ll, m):\n",
    "    if ll:\n",
    "        length = 1\n",
    "        node = ll\n",
    "        while node.next:\n",
    "            node = node.next\n",
    "            length += 1\n",
    "\n",
    "        n = length - m\n",
    "        i = 0\n",
    "        node = ll\n",
    "        while i < n:\n",
    "            node = node.next\n",
    "            i += 1\n",
    "    else:\n",
    "        node = ll\n",
    "    return node.data"
   ]
  },
  {
   "cell_type": "markdown",
   "metadata": {},
   "source": [
    "**Time complexity**: O(n)<br>\n",
    "**Space complexity**: O(n) where n is the number of nodes in the linked list.\n",
    "\n",
    "The solution first visits all the nodes and find the length of the linked list which takes O(n) time and\n",
    "O(n) space. Then it finds the position of mth to the last node in the linked list as (length - m)."
   ]
  },
  {
   "cell_type": "markdown",
   "metadata": {},
   "source": [
    "### Question 5 Test Cases"
   ]
  },
  {
   "cell_type": "code",
   "execution_count": 10,
   "metadata": {
    "collapsed": false
   },
   "outputs": [
    {
     "name": "stdout",
     "output_type": "stream",
     "text": [
      "Test Cases for Question 5:\n",
      "None\n",
      "0\n",
      "6\n"
     ]
    }
   ],
   "source": [
    "print 'Test Cases for Question 5:'\n",
    "\n",
    "e0 = Node(None)\n",
    "print question5(e0, 1)\n",
    "# Should print None\n",
    "\n",
    "e0 = Node(0)\n",
    "print question5(e0, 4)\n",
    "# Should print 0\n",
    "\n",
    "e0 = Node(0)\n",
    "e1 = Node(1)\n",
    "e2 = Node(2)\n",
    "e3 = Node(3)\n",
    "e4 = Node(4)\n",
    "e5 = Node(5)\n",
    "e6 = Node(6)\n",
    "e7 = Node(7)\n",
    "e8 = Node(8)\n",
    "e0.next = e1\n",
    "e1.next = e2\n",
    "e2.next = e3\n",
    "e3.next = e4\n",
    "e4.next = e5\n",
    "e5.next = e6\n",
    "e6.next = e7\n",
    "e7.next = e8\n",
    "print question5(e0, 3)\n",
    "# Should print 6"
   ]
  }
 ],
 "metadata": {
  "kernelspec": {
   "display_name": "Python 2",
   "language": "python",
   "name": "python2"
  },
  "language_info": {
   "codemirror_mode": {
    "name": "ipython",
    "version": 2
   },
   "file_extension": ".py",
   "mimetype": "text/x-python",
   "name": "python",
   "nbconvert_exporter": "python",
   "pygments_lexer": "ipython2",
   "version": "2.7.11"
  }
 },
 "nbformat": 4,
 "nbformat_minor": 0
}
